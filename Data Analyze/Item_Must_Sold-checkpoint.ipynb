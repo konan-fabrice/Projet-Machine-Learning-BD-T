{
 "cells": [
  {
   "cell_type": "code",
   "execution_count": 1,
   "id": "5521c25e-23d5-4bac-940e-6e1a16642de2",
   "metadata": {
    "tags": []
   },
   "outputs": [
    {
     "ename": "TypeError",
     "evalue": "Series.sort_values() got an unexpected keyword argument 'by'",
     "output_type": "error",
     "traceback": [
      "\u001b[1;31m---------------------------------------------------------------------------\u001b[0m",
      "\u001b[1;31mTypeError\u001b[0m                                 Traceback (most recent call last)",
      "Cell \u001b[1;32mIn[1], line 24\u001b[0m\n\u001b[0;32m     20\u001b[0m data_group\u001b[38;5;241m.\u001b[39mhead\n\u001b[0;32m     22\u001b[0m \u001b[38;5;66;03m# data_group.shape[0]\u001b[39;00m\n\u001b[0;32m     23\u001b[0m \u001b[38;5;66;03m# data_group.sort_values(ascending=False)\u001b[39;00m\n\u001b[1;32m---> 24\u001b[0m data_group\u001b[38;5;241m.\u001b[39msort_values(by\u001b[38;5;241m=\u001b[39m[\u001b[38;5;124m'\u001b[39m\u001b[38;5;124mQt\u001b[39m\u001b[38;5;124m'\u001b[39m],inplace\u001b[38;5;241m=\u001b[39m\u001b[38;5;28;01mTrue\u001b[39;00m)\n\u001b[0;32m     25\u001b[0m data_group\u001b[38;5;241m.\u001b[39mhead(\u001b[38;5;241m5\u001b[39m)\n",
      "File \u001b[1;32m~\\anaconda3\\Lib\\site-packages\\pandas\\util\\_decorators.py:331\u001b[0m, in \u001b[0;36mdeprecate_nonkeyword_arguments.<locals>.decorate.<locals>.wrapper\u001b[1;34m(*args, **kwargs)\u001b[0m\n\u001b[0;32m    325\u001b[0m \u001b[38;5;28;01mif\u001b[39;00m \u001b[38;5;28mlen\u001b[39m(args) \u001b[38;5;241m>\u001b[39m num_allow_args:\n\u001b[0;32m    326\u001b[0m     warnings\u001b[38;5;241m.\u001b[39mwarn(\n\u001b[0;32m    327\u001b[0m         msg\u001b[38;5;241m.\u001b[39mformat(arguments\u001b[38;5;241m=\u001b[39m_format_argument_list(allow_args)),\n\u001b[0;32m    328\u001b[0m         \u001b[38;5;167;01mFutureWarning\u001b[39;00m,\n\u001b[0;32m    329\u001b[0m         stacklevel\u001b[38;5;241m=\u001b[39mfind_stack_level(),\n\u001b[0;32m    330\u001b[0m     )\n\u001b[1;32m--> 331\u001b[0m \u001b[38;5;28;01mreturn\u001b[39;00m func(\u001b[38;5;241m*\u001b[39margs, \u001b[38;5;241m*\u001b[39m\u001b[38;5;241m*\u001b[39mkwargs)\n",
      "\u001b[1;31mTypeError\u001b[0m: Series.sort_values() got an unexpected keyword argument 'by'"
     ]
    }
   ],
   "source": [
    "#importation des bibliothèques\n",
    "import pandas as pd\n",
    "import numpy as np\n",
    "import matplotlib.pyplot as plt\n",
    "link=\"Lignes-facture-vente enreg..xlsx\"\n",
    "data= pd.read_excel(link)\n",
    "data.rename(columns={'Quantité': 'Qt'}, inplace=True)\n",
    "data['Qt'] = data['Qt'].astype(int)\n",
    "#data.head()\n",
    "#plt.plot([1, 2, 3, 4])\n",
    "#plt.ylabel('some numbers')\n",
    "#plt.show()\n",
    "data_red=data[['Description','Qt']]\n",
    "\n",
    "\n",
    "#data_red.head(2)\n",
    "data_red.info\n",
    "#Nombre de lignes: 180560 avant de grouper\n",
    "data_group=data_red.groupby('Description')['Qt'].sum()\n",
    "data_group.head\n",
    "\n",
    "# data_group.shape[0]\n",
    "# data_group.sort_values(ascending=False)\n",
    "#data_group.sort_values(by=['Qt'],inplace=True)\n",
    "data_group.head(5)\n",
    "# #Nombre de lignes: 896 après avoir groupé\n",
    "# #data_group.dropna(inplace=True)\n",
    "# #data_group.shape[0]\n",
    "# #x=data_group[['Description']]\n",
    "# # x = data_group.index\n",
    "# # # y=data_group.drop('Description',axis=1)\n",
    "# # y = data_group.values\n",
    "# # # print(y)\n",
    "# # plt.bar(x,y)\n",
    "# # plt.show()\n",
    "\n"
   ]
  },
  {
   "cell_type": "code",
   "execution_count": null,
   "id": "a6d6a7f2",
   "metadata": {
    "tags": []
   },
   "outputs": [],
   "source": []
  },
  {
   "cell_type": "code",
   "execution_count": null,
   "id": "5dcbdfea-3182-4f6f-be76-833a538c4b6b",
   "metadata": {},
   "outputs": [],
   "source": []
  },
  {
   "cell_type": "code",
   "execution_count": null,
   "id": "51df997f-f068-4996-ac03-3f14d4876cab",
   "metadata": {},
   "outputs": [],
   "source": []
  }
 ],
 "metadata": {
  "kernelspec": {
   "display_name": "Python 3 (ipykernel)",
   "language": "python",
   "name": "python3"
  },
  "language_info": {
   "codemirror_mode": {
    "name": "ipython",
    "version": 3
   },
   "file_extension": ".py",
   "mimetype": "text/x-python",
   "name": "python",
   "nbconvert_exporter": "python",
   "pygments_lexer": "ipython3",
   "version": "3.11.4"
  }
 },
 "nbformat": 4,
 "nbformat_minor": 5
}
