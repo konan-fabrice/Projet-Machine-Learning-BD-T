{
 "cells": [
  {
   "cell_type": "code",
   "execution_count": 1,
   "id": "5521c25e-23d5-4bac-940e-6e1a16642de2",
   "metadata": {},
   "outputs": [],
   "source": [
    "#importation des bibliothèques\n",
    "import pandas as p\n",
    "import numpy as np\n"
   ]
  },
  {
   "cell_type": "code",
   "execution_count": null,
   "metadata": {},
   "outputs": [],
   "source": []
  }
 ],
 "metadata": {
  "kernelspec": {
   "display_name": "Python 3 (ipykernel)",
   "language": "python",
   "name": "python3"
  },
  "language_info": {
   "codemirror_mode": {
    "name": "ipython",
    "version": 3
   },
   "file_extension": ".py",
   "mimetype": "text/x-python",
   "name": "python",
   "nbconvert_exporter": "python",
   "pygments_lexer": "ipython3",
   "version": "3.11.6"
  }
 },
 "nbformat": 4,
 "nbformat_minor": 5
}
